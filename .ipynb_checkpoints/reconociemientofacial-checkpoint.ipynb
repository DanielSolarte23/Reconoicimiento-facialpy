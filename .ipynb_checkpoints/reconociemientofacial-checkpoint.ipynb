{
 "cells": [
  {
   "cell_type": "code",
   "execution_count": 13,
   "id": "fec50213-3304-4c22-b765-3b0b124549d0",
   "metadata": {},
   "outputs": [
    {
     "name": "stdout",
     "output_type": "stream",
     "text": [
      "Requirement already satisfied: opencv-python in c:\\users\\jhonj\\anaconda3\\lib\\site-packages (4.10.0.84)\n",
      "Requirement already satisfied: numpy>=1.21.2 in c:\\users\\jhonj\\anaconda3\\lib\\site-packages (from opencv-python) (1.26.4)\n"
     ]
    }
   ],
   "source": [
    "!pip install opencv-python"
   ]
  },
  {
   "cell_type": "code",
   "execution_count": 23,
   "id": "c08fc5a5-fa5b-4529-8891-8c056f6b4eba",
   "metadata": {},
   "outputs": [],
   "source": [
    "import cv2\n",
    "\n",
    "# Carga el modelo preentrenado para detección de rostros\n",
    "face_cascade = cv2.CascadeClassifier(cv2.data.haarcascades + 'haarcascade_frontalface_default.xml')\n",
    "\n",
    "# Simulación de predicción de emoción (puedes usar tu modelo real aquí)\n",
    "def predict_emotion(face):\n",
    "    # Aquí, puedes usar tu modelo real. Este es un ejemplo básico:\n",
    "    return \"Happy\"\n",
    "\n",
    "# Inicia la cámara\n",
    "cap = cv2.VideoCapture(1)\n",
    "\n",
    "if not cap.isOpened():\n",
    "    print(\"Error: No se puede acceder a la cámara.\")\n",
    "    exit()\n",
    "\n",
    "while True:\n",
    "    ret, frame = cap.read()\n",
    "    if not ret:\n",
    "        print(\"Error: No se pudo capturar el fotograma.\")\n",
    "        break\n",
    "\n",
    "    # Convierte el frame a escala de grises (necesario para la detección de rostros)\n",
    "    gray = cv2.cvtColor(frame, cv2.COLOR_BGR2GRAY)\n",
    "\n",
    "    # Detecta rostros en el fotograma\n",
    "    faces = face_cascade.detectMultiScale(gray, scaleFactor=1.1, minNeighbors=5, minSize=(30, 30))\n",
    "\n",
    "    for (x, y, w, h) in faces:\n",
    "        # Dibuja un rectángulo alrededor del rostro detectado\n",
    "        cv2.rectangle(frame, (x, y), (x+w, y+h), (255, 0, 0), 2)\n",
    "\n",
    "        # Extrae el rostro para predecir la emoción (si usas un modelo de emociones)\n",
    "        face_roi = gray[y:y+h, x:x+w]\n",
    "\n",
    "        # Predice la emoción (usa tu modelo real aquí)\n",
    "        emotion = predict_emotion(face_roi)\n",
    "\n",
    "        # Muestra la emoción sobre el rostro detectado\n",
    "        cv2.putText(\n",
    "            frame, emotion, \n",
    "            (x, y - 10),  # Coordenadas del texto (encima del rostro)\n",
    "            cv2.FONT_HERSHEY_SIMPLEX, \n",
    "            0.6,  # Tamaño del texto\n",
    "            (255, 255, 255),  # Color del texto (blanco)\n",
    "            2  # Grosor del texto\n",
    "        )\n",
    "\n",
    "    # Muestra el fotograma en una ventana\n",
    "    cv2.imshow(\"Deteccion de Rostros\", frame)\n",
    "\n",
    "    # Detiene el bucle al presionar 'q'\n",
    "    if cv2.waitKey(1) & 0xFF == ord('q'):\n",
    "        break\n",
    "\n",
    "# Libera los recursos\n",
    "cap.release()\n",
    "cv2.destroyAllWindows()"
   ]
  },
  {
   "cell_type": "code",
   "execution_count": null,
   "id": "95b7f8fe-bde9-423f-a4a3-fdbd1733d88b",
   "metadata": {},
   "outputs": [],
   "source": []
  }
 ],
 "metadata": {
  "kernelspec": {
   "display_name": "Python 3 (ipykernel)",
   "language": "python",
   "name": "python3"
  },
  "language_info": {
   "codemirror_mode": {
    "name": "ipython",
    "version": 3
   },
   "file_extension": ".py",
   "mimetype": "text/x-python",
   "name": "python",
   "nbconvert_exporter": "python",
   "pygments_lexer": "ipython3",
   "version": "3.12.7"
  }
 },
 "nbformat": 4,
 "nbformat_minor": 5
}
